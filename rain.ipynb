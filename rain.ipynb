{
 "cells": [
  {
   "cell_type": "code",
   "execution_count": 1,
   "id": "40ac53cc",
   "metadata": {},
   "outputs": [],
   "source": [
    "\n",
    "import numpy as np\n",
    "import pandas as pd\n",
    "#import matplotlib.pyplot as plt\n"
   ]
  },
  {
   "cell_type": "markdown",
   "id": "dd4ec358",
   "metadata": {},
   "source": [
    "# Importing Library and Importing Library"
   ]
  },
  {
   "cell_type": "code",
   "execution_count": 2,
   "id": "95051a28",
   "metadata": {},
   "outputs": [],
   "source": [
    "data=pd.read_csv(\"Australia_weather1.csv\")\n"
   ]
  },
  {
   "cell_type": "markdown",
   "id": "eb330ba0",
   "metadata": {},
   "source": [
    "# slicing data"
   ]
  },
  {
   "cell_type": "code",
   "execution_count": 3,
   "id": "a2a79a20",
   "metadata": {},
   "outputs": [],
   "source": [
    "x=data.iloc[:,[2,3,4,13,14,19,20,21]].values\n",
    "y=data.iloc[:,-1].values"
   ]
  },
  {
   "cell_type": "code",
   "execution_count": 4,
   "id": "6a52a2a4",
   "metadata": {},
   "outputs": [
    {
     "name": "stdout",
     "output_type": "stream",
     "text": [
      "[[19.6 31.4 0.6 ... 28.1 29.1 'No']\n",
      " [22.5 30.6 4.6 ... 28.2 29.2 'Yes']\n",
      " [19.7 30.5 0.0 ... 27.2 29.4 'No']\n",
      " ...\n",
      " [nan nan nan ... nan nan nan]\n",
      " [nan nan nan ... nan nan nan]\n",
      " [nan nan nan ... nan nan nan]]\n"
     ]
    }
   ],
   "source": [
    "print(x)"
   ]
  },
  {
   "cell_type": "code",
   "execution_count": 5,
   "id": "743828ae",
   "metadata": {},
   "outputs": [
    {
     "name": "stdout",
     "output_type": "stream",
     "text": [
      "['Yes' 'No' 'No' ... nan nan nan]\n"
     ]
    }
   ],
   "source": [
    "print(y)"
   ]
  },
  {
   "cell_type": "code",
   "execution_count": 6,
   "id": "acdc9941",
   "metadata": {},
   "outputs": [
    {
     "name": "stdout",
     "output_type": "stream",
     "text": [
      "[['Yes']\n",
      " ['No']\n",
      " ['No']\n",
      " ...\n",
      " [nan]\n",
      " [nan]\n",
      " [nan]]\n"
     ]
    }
   ],
   "source": [
    "y=y.reshape(-1,1) #2D list\n",
    "print(y)"
   ]
  },
  {
   "cell_type": "code",
   "execution_count": 7,
   "id": "f6ced273",
   "metadata": {},
   "outputs": [
    {
     "name": "stdout",
     "output_type": "stream",
     "text": [
      "[[19.6 31.4 0.6 ... 28.1 29.1 'No']\n",
      " [22.5 30.6 4.6 ... 28.2 29.2 'Yes']\n",
      " [19.7 30.5 0.0 ... 27.2 29.4 'No']\n",
      " ...\n",
      " [10.2 19.5 0.0 ... 15.0 20.0 'No']\n",
      " [10.2 19.5 0.0 ... 15.0 20.0 'No']\n",
      " [10.2 19.5 0.0 ... 15.0 20.0 'No']]\n",
      "[['Yes']\n",
      " ['No']\n",
      " ['No']\n",
      " ...\n",
      " ['No']\n",
      " ['No']\n",
      " ['No']]\n"
     ]
    }
   ],
   "source": [
    "from sklearn.impute import SimpleImputer\n",
    "imputer=SimpleImputer(missing_values=np.nan,strategy=\"most_frequent\")\n",
    "x=imputer.fit_transform(x)\n",
    "y=imputer.fit_transform(y)\n",
    "print(x)\n",
    "print(y)"
   ]
  },
  {
   "cell_type": "code",
   "execution_count": 8,
   "id": "fb1904dc",
   "metadata": {},
   "outputs": [
    {
     "name": "stderr",
     "output_type": "stream",
     "text": [
      "c:\\Users\\Bigil\\anaconda3\\Lib\\site-packages\\sklearn\\preprocessing\\_label.py:114: DataConversionWarning: A column-vector y was passed when a 1d array was expected. Please change the shape of y to (n_samples, ), for example using ravel().\n",
      "  y = column_or_1d(y, warn=True)\n"
     ]
    }
   ],
   "source": [
    "from sklearn.preprocessing import LabelEncoder\n",
    "#lv1=LabelEncoder()\n",
    "#x[:,0]=lv1.fit_transform(x[:,0])\n",
    "#lv2=LabelEncoder()\n",
    "#x[:,4]=lv2.fit_transform(x[:,4])\n",
    "#lv3=LabelEncoder()\n",
    "#x[:,6]=lv3.fit_transform(x[:,6])\n",
    "#lv4=LabelEncoder()\n",
    "#x[:,7]=lv4.fit_transform(x[:,7])\n",
    "lv5=LabelEncoder()\n",
    "x[:,-1]=lv5.fit_transform(x[:,-1])\n",
    "lv6=LabelEncoder()\n",
    "y=lv6.fit_transform(y)\n"
   ]
  },
  {
   "cell_type": "code",
   "execution_count": 9,
   "id": "de87cf0a",
   "metadata": {},
   "outputs": [
    {
     "name": "stdout",
     "output_type": "stream",
     "text": [
      "[[19.6 31.4 0.6 ... 28.1 29.1 0]\n",
      " [22.5 30.6 4.6 ... 28.2 29.2 1]\n",
      " [19.7 30.5 0.0 ... 27.2 29.4 0]\n",
      " ...\n",
      " [10.2 19.5 0.0 ... 15.0 20.0 0]\n",
      " [10.2 19.5 0.0 ... 15.0 20.0 0]\n",
      " [10.2 19.5 0.0 ... 15.0 20.0 0]]\n"
     ]
    }
   ],
   "source": [
    "print(x)"
   ]
  },
  {
   "cell_type": "code",
   "execution_count": 10,
   "id": "79b5e168",
   "metadata": {},
   "outputs": [
    {
     "name": "stdout",
     "output_type": "stream",
     "text": [
      "[1 0 0 ... 0 0 0]\n"
     ]
    }
   ],
   "source": [
    "print(y)"
   ]
  },
  {
   "cell_type": "code",
   "execution_count": 11,
   "id": "43cfb435",
   "metadata": {},
   "outputs": [],
   "source": [
    "from sklearn.preprocessing import StandardScaler\n",
    "sc=StandardScaler()\n",
    "x=sc.fit_transform(x)"
   ]
  },
  {
   "cell_type": "code",
   "execution_count": 12,
   "id": "152f377b",
   "metadata": {},
   "outputs": [
    {
     "name": "stdout",
     "output_type": "stream",
     "text": [
      "[[ 1.3171923   1.19528169 -0.14839977 ...  1.81654597  1.09766356\n",
      "  -0.43654385]\n",
      " [ 1.82594993  1.07869335  0.49817794 ...  1.83331322  1.11314418\n",
      "   2.29072064]\n",
      " [ 1.33473567  1.06411981 -0.24538643 ...  1.66564078  1.14410541\n",
      "  -0.43654385]\n",
      " ...\n",
      " [-0.33188416 -0.5389699  -0.24538643 ... -0.37996299 -0.31107234\n",
      "  -0.43654385]\n",
      " [-0.33188416 -0.5389699  -0.24538643 ... -0.37996299 -0.31107234\n",
      "  -0.43654385]\n",
      " [-0.33188416 -0.5389699  -0.24538643 ... -0.37996299 -0.31107234\n",
      "  -0.43654385]]\n"
     ]
    }
   ],
   "source": [
    "print(x)"
   ]
  },
  {
   "cell_type": "code",
   "execution_count": null,
   "id": "276f45d9",
   "metadata": {},
   "outputs": [],
   "source": []
  },
  {
   "cell_type": "code",
   "execution_count": 47,
   "id": "b952f619",
   "metadata": {},
   "outputs": [],
   "source": [
    "import pickle\n",
    "pickle.dump(sc,open('scaling.pkl','wb'))"
   ]
  },
  {
   "cell_type": "markdown",
   "id": "0fde8e64",
   "metadata": {},
   "source": [
    "# spliting data into training and testing dataset"
   ]
  },
  {
   "cell_type": "code",
   "execution_count": 15,
   "id": "3f5d5881",
   "metadata": {},
   "outputs": [],
   "source": [
    "from sklearn.model_selection import train_test_split\n",
    "x_train,x_test,y_train,y_test=train_test_split(x,y,test_size=0.2,random_state=0)\n"
   ]
  },
  {
   "cell_type": "code",
   "execution_count": 16,
   "id": "a15ebd7a",
   "metadata": {},
   "outputs": [
    {
     "name": "stdout",
     "output_type": "stream",
     "text": [
      "[[ 1.35227904e+00  1.54504672e+00 -2.45386426e-01 ...  1.01171826e+00\n",
      "   1.65496568e+00 -4.36543847e-01]\n",
      " [-3.31884158e-01 -5.38969899e-01 -2.45386426e-01 ... -3.79962991e-01\n",
      "  -3.11072338e-01 -4.36543847e-01]\n",
      " [ 7.16132737e-02 -8.88734925e-01 -5.14131142e-02 ... -3.46428503e-01\n",
      "  -1.08510305e+00  2.29072064e+00]\n",
      " ...\n",
      " [-2.10376418e+00  2.51183588e-04 -2.45386426e-01 ... -8.32678579e-01\n",
      "   4.49817910e-02 -4.36543847e-01]\n",
      " [ 1.80840657e+00  1.95310591e+00 -2.45386426e-01 ...  1.81654597e+00\n",
      "   2.02650042e+00 -4.36543847e-01]\n",
      " [-4.89774457e-01 -1.28222058e+00  7.56809017e-01 ... -9.33282043e-01\n",
      "  -1.33279288e+00  2.29072064e+00]]\n"
     ]
    }
   ],
   "source": [
    "print(x_train)"
   ]
  },
  {
   "cell_type": "code",
   "execution_count": 17,
   "id": "386b377b",
   "metadata": {},
   "outputs": [
    {
     "name": "stdout",
     "output_type": "stream",
     "text": [
      "[0 0 0 ... 0 0 1]\n"
     ]
    }
   ],
   "source": [
    "print(y_train)"
   ]
  },
  {
   "cell_type": "markdown",
   "id": "bfb0829b",
   "metadata": {},
   "source": [
    "# training model"
   ]
  },
  {
   "cell_type": "code",
   "execution_count": 45,
   "id": "68fc2a0f",
   "metadata": {},
   "outputs": [
    {
     "data": {
      "text/html": [
       "<style>#sk-container-id-2 {color: black;}#sk-container-id-2 pre{padding: 0;}#sk-container-id-2 div.sk-toggleable {background-color: white;}#sk-container-id-2 label.sk-toggleable__label {cursor: pointer;display: block;width: 100%;margin-bottom: 0;padding: 0.3em;box-sizing: border-box;text-align: center;}#sk-container-id-2 label.sk-toggleable__label-arrow:before {content: \"▸\";float: left;margin-right: 0.25em;color: #696969;}#sk-container-id-2 label.sk-toggleable__label-arrow:hover:before {color: black;}#sk-container-id-2 div.sk-estimator:hover label.sk-toggleable__label-arrow:before {color: black;}#sk-container-id-2 div.sk-toggleable__content {max-height: 0;max-width: 0;overflow: hidden;text-align: left;background-color: #f0f8ff;}#sk-container-id-2 div.sk-toggleable__content pre {margin: 0.2em;color: black;border-radius: 0.25em;background-color: #f0f8ff;}#sk-container-id-2 input.sk-toggleable__control:checked~div.sk-toggleable__content {max-height: 200px;max-width: 100%;overflow: auto;}#sk-container-id-2 input.sk-toggleable__control:checked~label.sk-toggleable__label-arrow:before {content: \"▾\";}#sk-container-id-2 div.sk-estimator input.sk-toggleable__control:checked~label.sk-toggleable__label {background-color: #d4ebff;}#sk-container-id-2 div.sk-label input.sk-toggleable__control:checked~label.sk-toggleable__label {background-color: #d4ebff;}#sk-container-id-2 input.sk-hidden--visually {border: 0;clip: rect(1px 1px 1px 1px);clip: rect(1px, 1px, 1px, 1px);height: 1px;margin: -1px;overflow: hidden;padding: 0;position: absolute;width: 1px;}#sk-container-id-2 div.sk-estimator {font-family: monospace;background-color: #f0f8ff;border: 1px dotted black;border-radius: 0.25em;box-sizing: border-box;margin-bottom: 0.5em;}#sk-container-id-2 div.sk-estimator:hover {background-color: #d4ebff;}#sk-container-id-2 div.sk-parallel-item::after {content: \"\";width: 100%;border-bottom: 1px solid gray;flex-grow: 1;}#sk-container-id-2 div.sk-label:hover label.sk-toggleable__label {background-color: #d4ebff;}#sk-container-id-2 div.sk-serial::before {content: \"\";position: absolute;border-left: 1px solid gray;box-sizing: border-box;top: 0;bottom: 0;left: 50%;z-index: 0;}#sk-container-id-2 div.sk-serial {display: flex;flex-direction: column;align-items: center;background-color: white;padding-right: 0.2em;padding-left: 0.2em;position: relative;}#sk-container-id-2 div.sk-item {position: relative;z-index: 1;}#sk-container-id-2 div.sk-parallel {display: flex;align-items: stretch;justify-content: center;background-color: white;position: relative;}#sk-container-id-2 div.sk-item::before, #sk-container-id-2 div.sk-parallel-item::before {content: \"\";position: absolute;border-left: 1px solid gray;box-sizing: border-box;top: 0;bottom: 0;left: 50%;z-index: -1;}#sk-container-id-2 div.sk-parallel-item {display: flex;flex-direction: column;z-index: 1;position: relative;background-color: white;}#sk-container-id-2 div.sk-parallel-item:first-child::after {align-self: flex-end;width: 50%;}#sk-container-id-2 div.sk-parallel-item:last-child::after {align-self: flex-start;width: 50%;}#sk-container-id-2 div.sk-parallel-item:only-child::after {width: 0;}#sk-container-id-2 div.sk-dashed-wrapped {border: 1px dashed gray;margin: 0 0.4em 0.5em 0.4em;box-sizing: border-box;padding-bottom: 0.4em;background-color: white;}#sk-container-id-2 div.sk-label label {font-family: monospace;font-weight: bold;display: inline-block;line-height: 1.2em;}#sk-container-id-2 div.sk-label-container {text-align: center;}#sk-container-id-2 div.sk-container {/* jupyter's `normalize.less` sets `[hidden] { display: none; }` but bootstrap.min.css set `[hidden] { display: none !important; }` so we also need the `!important` here to be able to override the default hidden behavior on the sphinx rendered scikit-learn.org. See: https://github.com/scikit-learn/scikit-learn/issues/21755 */display: inline-block !important;position: relative;}#sk-container-id-2 div.sk-text-repr-fallback {display: none;}</style><div id=\"sk-container-id-2\" class=\"sk-top-container\"><div class=\"sk-text-repr-fallback\"><pre>RandomForestClassifier()</pre><b>In a Jupyter environment, please rerun this cell to show the HTML representation or trust the notebook. <br />On GitHub, the HTML representation is unable to render, please try loading this page with nbviewer.org.</b></div><div class=\"sk-container\" hidden><div class=\"sk-item\"><div class=\"sk-estimator sk-toggleable\"><input class=\"sk-toggleable__control sk-hidden--visually\" id=\"sk-estimator-id-2\" type=\"checkbox\" checked><label for=\"sk-estimator-id-2\" class=\"sk-toggleable__label sk-toggleable__label-arrow\">RandomForestClassifier</label><div class=\"sk-toggleable__content\"><pre>RandomForestClassifier()</pre></div></div></div></div></div>"
      ],
      "text/plain": [
       "RandomForestClassifier()"
      ]
     },
     "execution_count": 45,
     "metadata": {},
     "output_type": "execute_result"
    }
   ],
   "source": [
    "from sklearn.ensemble import RandomForestClassifier\n",
    "classifier=RandomForestClassifier()\n",
    "classifier.fit(x_train,y_train)"
   ]
  },
  {
   "cell_type": "code",
   "execution_count": 44,
   "id": "7f90176b",
   "metadata": {},
   "outputs": [],
   "source": [
    "x_train=sc.fit_transform(x_train)\n"
   ]
  },
  {
   "cell_type": "code",
   "execution_count": 43,
   "id": "e0f49b2c",
   "metadata": {},
   "outputs": [],
   "source": [
    "x_test=sc.transform(x_test)\n",
    "#y_test=sc.transform(y_test)"
   ]
  },
  {
   "cell_type": "code",
   "execution_count": 23,
   "id": "48de7bfe",
   "metadata": {},
   "outputs": [
    {
     "data": {
      "text/plain": [
       "0.9998282541075892"
      ]
     },
     "execution_count": 23,
     "metadata": {},
     "output_type": "execute_result"
    }
   ],
   "source": [
    "classifier.score(x_train,y_train)"
   ]
  },
  {
   "cell_type": "code",
   "execution_count": 24,
   "id": "bf0ae67c",
   "metadata": {},
   "outputs": [
    {
     "name": "stdout",
     "output_type": "stream",
     "text": [
      "[0 0 0 ... 0 0 0]\n"
     ]
    }
   ],
   "source": [
    "print(y_test)"
   ]
  },
  {
   "cell_type": "code",
   "execution_count": 25,
   "id": "337d44ef",
   "metadata": {},
   "outputs": [
    {
     "name": "stdout",
     "output_type": "stream",
     "text": [
      "[[0]\n",
      " [0]\n",
      " [0]\n",
      " ...\n",
      " [0]\n",
      " [0]\n",
      " [0]]\n"
     ]
    }
   ],
   "source": [
    "Y_test=y_test.reshape(-1,1)\n",
    "print(Y_test)"
   ]
  },
  {
   "cell_type": "code",
   "execution_count": 26,
   "id": "0805ec43",
   "metadata": {},
   "outputs": [
    {
     "name": "stdout",
     "output_type": "stream",
     "text": [
      "[0 0 0 ... 0 1 0]\n"
     ]
    }
   ],
   "source": [
    "Y_pred=classifier.predict(x_test)\n",
    "print(Y_pred)"
   ]
  },
  {
   "cell_type": "code",
   "execution_count": 27,
   "id": "1895a9d5",
   "metadata": {},
   "outputs": [],
   "source": [
    "y_pred=lv6.inverse_transform(Y_pred)"
   ]
  },
  {
   "cell_type": "code",
   "execution_count": 28,
   "id": "d91f51f4",
   "metadata": {},
   "outputs": [
    {
     "name": "stdout",
     "output_type": "stream",
     "text": [
      "['No' 'No' 'No' ... 'No' 'Yes' 'No']\n"
     ]
    }
   ],
   "source": [
    "print(y_pred)"
   ]
  },
  {
   "cell_type": "code",
   "execution_count": 29,
   "id": "e0aba77b",
   "metadata": {},
   "outputs": [
    {
     "name": "stdout",
     "output_type": "stream",
     "text": [
      "[[0]\n",
      " [0]\n",
      " [0]\n",
      " ...\n",
      " [0]\n",
      " [0]\n",
      " [0]]\n"
     ]
    }
   ],
   "source": [
    "print(Y_test)"
   ]
  },
  {
   "cell_type": "code",
   "execution_count": 30,
   "id": "2db25f72",
   "metadata": {},
   "outputs": [
    {
     "name": "stderr",
     "output_type": "stream",
     "text": [
      "c:\\Users\\Bigil\\anaconda3\\Lib\\site-packages\\sklearn\\preprocessing\\_label.py:153: DataConversionWarning: A column-vector y was passed when a 1d array was expected. Please change the shape of y to (n_samples, ), for example using ravel().\n",
      "  y = column_or_1d(y, warn=True)\n"
     ]
    }
   ],
   "source": [
    "Y_test=lv6.inverse_transform(Y_test)"
   ]
  },
  {
   "cell_type": "code",
   "execution_count": 31,
   "id": "d08f6fc0",
   "metadata": {},
   "outputs": [
    {
     "name": "stdout",
     "output_type": "stream",
     "text": [
      "['No' 'No' 'No' ... 'No' 'No' 'No']\n"
     ]
    }
   ],
   "source": [
    "print(Y_test)"
   ]
  },
  {
   "cell_type": "code",
   "execution_count": 32,
   "id": "25087175",
   "metadata": {},
   "outputs": [
    {
     "name": "stdout",
     "output_type": "stream",
     "text": [
      "[['No']\n",
      " ['No']\n",
      " ['No']\n",
      " ...\n",
      " ['No']\n",
      " ['No']\n",
      " ['No']]\n"
     ]
    }
   ],
   "source": [
    "Y_test=Y_test.reshape(-1,1)\n",
    "y_pred=y_pred.reshape(-1,1)\n",
    "print(Y_test)\n"
   ]
  },
  {
   "cell_type": "code",
   "execution_count": 33,
   "id": "9ffc60c2",
   "metadata": {},
   "outputs": [
    {
     "name": "stdout",
     "output_type": "stream",
     "text": [
      "[['No']\n",
      " ['No']\n",
      " ['No']\n",
      " ...\n",
      " ['No']\n",
      " ['Yes']\n",
      " ['No']]\n"
     ]
    }
   ],
   "source": [
    "print(y_pred)"
   ]
  },
  {
   "cell_type": "code",
   "execution_count": 34,
   "id": "a6f1e300",
   "metadata": {},
   "outputs": [
    {
     "name": "stdout",
     "output_type": "stream",
     "text": [
      "      rain on tommorow(actual) rain on tommorow(predicted)\n",
      "0                           No                          No\n",
      "1                           No                          No\n",
      "2                           No                          No\n",
      "3                           No                          No\n",
      "4                           No                          No\n",
      "...                        ...                         ...\n",
      "13096                       No                          No\n",
      "13097                      Yes                          No\n",
      "13098                       No                          No\n",
      "13099                       No                         Yes\n",
      "13100                       No                          No\n",
      "\n",
      "[13101 rows x 2 columns]\n"
     ]
    }
   ],
   "source": [
    "df=np.concatenate((Y_test,y_pred),axis=1)\n",
    "dataframe=pd.DataFrame(df,columns=['rain on tommorow(actual)','rain on tommorow(predicted)'])\n",
    "print(dataframe)"
   ]
  },
  {
   "cell_type": "code",
   "execution_count": 35,
   "id": "53e438f9",
   "metadata": {},
   "outputs": [],
   "source": [
    "dataframe.to_csv('prediction.csv')"
   ]
  },
  {
   "cell_type": "markdown",
   "id": "f27c80ef",
   "metadata": {},
   "source": [
    "# checking Accuracy range\n"
   ]
  },
  {
   "cell_type": "code",
   "execution_count": 36,
   "id": "82502a25",
   "metadata": {},
   "outputs": [
    {
     "data": {
      "text/plain": [
       "0.8792458590947256"
      ]
     },
     "execution_count": 36,
     "metadata": {},
     "output_type": "execute_result"
    }
   ],
   "source": [
    "from sklearn.metrics import accuracy_score\n",
    "accuracy_score(Y_test,y_pred)"
   ]
  },
  {
   "cell_type": "markdown",
   "id": "99f28da4",
   "metadata": {},
   "source": [
    "# pickling the model file for deployment"
   ]
  },
  {
   "cell_type": "code",
   "execution_count": 37,
   "id": "af94d061",
   "metadata": {},
   "outputs": [],
   "source": [
    "import pickle"
   ]
  },
  {
   "cell_type": "code",
   "execution_count": 41,
   "id": "5f9c1c90",
   "metadata": {},
   "outputs": [],
   "source": [
    "pickle.dump(classifier,open('classifymodel.pkl','wb'))"
   ]
  },
  {
   "cell_type": "code",
   "execution_count": 42,
   "id": "2322bf4b",
   "metadata": {},
   "outputs": [],
   "source": [
    "pickled_model=pickle.load(open('classifymodel.pkl','rb'))"
   ]
  },
  {
   "cell_type": "code",
   "execution_count": 40,
   "id": "5ac9bf43",
   "metadata": {},
   "outputs": [
    {
     "data": {
      "text/plain": [
       "array([0])"
      ]
     },
     "execution_count": 40,
     "metadata": {},
     "output_type": "execute_result"
    }
   ],
   "source": [
    "pickled_model.predict(x_test[0].reshape(1,-1))"
   ]
  },
  {
   "cell_type": "code",
   "execution_count": null,
   "id": "664ad983",
   "metadata": {},
   "outputs": [],
   "source": []
  },
  {
   "cell_type": "code",
   "execution_count": null,
   "id": "77ea0b0b",
   "metadata": {},
   "outputs": [],
   "source": []
  }
 ],
 "metadata": {
  "kernelspec": {
   "display_name": "Python 3 (ipykernel)",
   "language": "python",
   "name": "python3"
  },
  "language_info": {
   "codemirror_mode": {
    "name": "ipython",
    "version": 3
   },
   "file_extension": ".py",
   "mimetype": "text/x-python",
   "name": "python",
   "nbconvert_exporter": "python",
   "pygments_lexer": "ipython3",
   "version": "3.9.0"
  }
 },
 "nbformat": 4,
 "nbformat_minor": 5
}
